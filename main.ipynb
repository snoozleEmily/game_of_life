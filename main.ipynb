{
 "cells": [
  {
   "cell_type": "code",
   "execution_count": 42,
   "metadata": {},
   "outputs": [],
   "source": [
    "import numpy as np\n",
    "import matplotlib.pyplot as plt\n",
    "import matplotlib.animation as FuncAnimation"
   ]
  },
  {
   "cell_type": "code",
   "execution_count": 43,
   "metadata": {},
   "outputs": [],
   "source": [
    "dead = 0\n",
    "alive = 1"
   ]
  },
  {
   "cell_type": "code",
   "execution_count": 44,
   "metadata": {},
   "outputs": [],
   "source": [
    "def update_each_unit(cell, neighbors):\n",
    "    neighbors = np.sum(neighbors) - cell\n",
    "    \n",
    "    if cell == alive:\n",
    "        # Underpopulation\n",
    "        if neighbors < 2: \n",
    "            return dead\n",
    "        \n",
    "        # Next Generation\n",
    "        if neighbors in [2, 3]: \n",
    "            return alive\n",
    "        \n",
    "        # Overpopulation\n",
    "        if neighbors > 3: \n",
    "            return dead\n",
    "    else:\n",
    "        # Reproduction\n",
    "        if neighbors == 3: \n",
    "            return alive\n",
    "    return cell"
   ]
  },
  {
   "cell_type": "code",
   "execution_count": 45,
   "metadata": {},
   "outputs": [],
   "source": [
    "def create_next_grid(grid):\n",
    "    # Creating a padded grid to handle edge cells\n",
    "    bigger_grid = np.pad(grid, pad_width=1)\n",
    "\n",
    "    # Creating an array of zeros with the same shape as the original grid\n",
    "    other_generated_grid = np.zeros_like(grid)\n",
    "\n",
    "    # Iterates over the rows excluding the first and last rows\n",
    "    for row in range(1, bigger_grid.shape[0] - 1):\n",
    "        # Iterates over the columns excluding the first and last columns\n",
    "        for column in range(1, bigger_grid.shape[1] - 1):\n",
    "\n",
    "            # Extracting the 3x3 neighborhood\n",
    "            nearby_cells = bigger_grid[row-1:row+2, column-1:column+2]\n",
    "\n",
    "            # Assigns the updated state of the cell in focus at the specified row and column\n",
    "            # and determines the next state of the cell in focus based on the surrounding cells\n",
    "            other_generated_grid[row-1, column-1] = update_each_unit(bigger_grid[row, column], nearby_cells)\n",
    " \n",
    "    return other_generated_grid"
   ]
  },
  {
   "cell_type": "code",
   "execution_count": 46,
   "metadata": {},
   "outputs": [],
   "source": [
    "initial_grid = np.array([\n",
    "    [dead, dead, alive],\n",
    "    [dead, dead, alive],\n",
    "    [dead, dead, alive]\n",
    "    ])\n",
    "\n",
    "current_grid = initial_grid.copy()"
   ]
  },
  {
   "cell_type": "code",
   "execution_count": null,
   "metadata": {},
   "outputs": [],
   "source": [
    "fig, ax = plt.subplots()\n",
    "img = ax.imshow()"
   ]
  }
 ],
 "metadata": {
  "kernelspec": {
   "display_name": "Python 3",
   "language": "python",
   "name": "python3"
  },
  "language_info": {
   "codemirror_mode": {
    "name": "ipython",
    "version": 3
   },
   "file_extension": ".py",
   "mimetype": "text/x-python",
   "name": "python",
   "nbconvert_exporter": "python",
   "pygments_lexer": "ipython3",
   "version": "3.11.7"
  }
 },
 "nbformat": 4,
 "nbformat_minor": 2
}
