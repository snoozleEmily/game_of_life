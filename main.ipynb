{
 "cells": [
  {
   "cell_type": "code",
   "execution_count": 387,
   "metadata": {},
   "outputs": [],
   "source": [
    "import numpy as np\n",
    "import matplotlib.pyplot as plt\n",
    "import matplotlib.animation as animation\n",
    "from IPython.display import display, HTML"
   ]
  },
  {
   "cell_type": "code",
   "execution_count": 388,
   "metadata": {},
   "outputs": [],
   "source": [
    "# Dimensions of the grid\n",
    "GRID_SIZE = 100\n",
    "grid = np.random.choice([0, 1], size=(GRID_SIZE, GRID_SIZE))"
   ]
  },
  {
   "cell_type": "code",
   "execution_count": 389,
   "metadata": {},
   "outputs": [],
   "source": [
    "def generate_grid(grid):\n",
    "    # Creating a copy of the grid to update it\n",
    "    new_grid = grid.copy()\n",
    "\n",
    "    for row in range(GRID_SIZE):\n",
    "        for column in range(GRID_SIZE):\n",
    "            # Counting the number of live neighbors\n",
    "            total = int((grid[row, (column-1)%GRID_SIZE] + grid[row, (column+1)%GRID_SIZE] +\n",
    "                         grid[(row-1)%GRID_SIZE, column] + grid[(row+1)%GRID_SIZE, column] +\n",
    "                         grid[(row-1)%GRID_SIZE, (column-1)%GRID_SIZE] + grid[(row-1)%GRID_SIZE, (column+1)%GRID_SIZE] +\n",
    "                         grid[(row+1)%GRID_SIZE, (column-1)%GRID_SIZE] + grid[(row+1)%GRID_SIZE, (column+1)%GRID_SIZE]))\n",
    "            \n",
    "            # Rules\n",
    "            if grid[row, column] == 1:\n",
    "                if (total < 2) or (total > 3):\n",
    "                    new_grid[row, column] = 0\n",
    "            else:\n",
    "                if total == 3:\n",
    "                    new_grid[row, column] = 1\n",
    "    return new_grid"
   ]
  },
  {
   "cell_type": "code",
   "execution_count": 390,
   "metadata": {},
   "outputs": [],
   "source": [
    "def update_grid(frame):\n",
    "    global grid, mat\n",
    "    grid = generate_grid(grid)\n",
    "    mat.set_data(grid)\n",
    "    return [mat]"
   ]
  },
  {
   "cell_type": "code",
   "execution_count": null,
   "metadata": {},
   "outputs": [],
   "source": [
    "# Creating a figure, axes and a heatmap \n",
    "figure, axes = plt.subplots(facecolor='gray')\n",
    "mat = axes.matshow(grid, cmap=\"binary\")"
   ]
  },
  {
   "cell_type": "code",
   "execution_count": 392,
   "metadata": {},
   "outputs": [],
   "source": [
    "animate = animation.FuncAnimation(figure, update_grid, interval=30, save_count=100)"
   ]
  },
  {
   "cell_type": "code",
   "execution_count": 393,
   "metadata": {},
   "outputs": [],
   "source": [
    "# Save the animation as a GIF\n",
    "#animate.save('animation.gif', writer='imagemagick')"
   ]
  },
  {
   "cell_type": "code",
   "execution_count": null,
   "metadata": {},
   "outputs": [],
   "source": [
    "# Display the animation\n",
    "display(HTML(animate.to_jshtml()))"
   ]
  }
 ],
 "metadata": {
  "kernelspec": {
   "display_name": "Python 3",
   "language": "python",
   "name": "python3"
  },
  "language_info": {
   "codemirror_mode": {
    "name": "ipython",
    "version": 3
   },
   "file_extension": ".py",
   "mimetype": "text/x-python",
   "name": "python",
   "nbconvert_exporter": "python",
   "pygments_lexer": "ipython3",
   "version": "3.11.7"
  }
 },
 "nbformat": 4,
 "nbformat_minor": 2
}
