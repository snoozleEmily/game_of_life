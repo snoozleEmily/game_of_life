{
 "cells": [
  {
   "cell_type": "code",
   "execution_count": 2,
   "metadata": {
    "vscode": {
     "languageId": "html"
    }
   },
   "outputs": [
    {
     "data": {
      "text/html": [
       "<link rel=\"stylesheet\" type=\"text/css\" href=\"custom.css\">\n"
      ],
      "text/plain": [
       "<IPython.core.display.HTML object>"
      ]
     },
     "metadata": {},
     "output_type": "display_data"
    }
   ],
   "source": [
    "%%html\n",
    "<link rel=\"stylesheet\" type=\"text/css\" href=\"custom.css\">"
   ]
  },
  {
   "cell_type": "markdown",
   "metadata": {},
   "source": [
    "# [The Game of Life 𓍼ོ](https://en.wikipedia.org/wiki/Conway%27s_Game_of_Life) \n",
    "\n",
    "Also known as Life, is a cellular automaton created by the mathematician [John Horton Conway](https://mathshistory.st-andrews.ac.uk/Biographies/Conway/) in 1970. It is a [zero-player](https://gamephilosophy.org/wp-content/uploads/confmanuscripts/pcg2012/Bjor%20Juul%202012%20-Zero-player-games-Exploring-the-distinction-between-Games-as-Artifacts-and-Games-as-Activities.pdf) game, meaning that its evolution is determined by its initial state, requiring no further input. One interacts with the Game of Life by creating an initial configuration and observing how it evolves. It is Turing complete and can simulate a universal constructor or any other Turing machine. <span style=\"font-size: 6px; font-family: Verdana; letter-spacing: 3px;\">AKA THE GAME PLAYS ITSELF</span>\n",
    "\n",
    "The universe of the Game of Life is an [infinite, two-dimensional orthogonal grid of square](https://en.wikipedia.org/wiki/Square_tiling) cells, each of which is in one of two possible states, live or dead (or populated and unpopulated, respectively). Every cell interacts with its eight [neighbors](https://en.wikipedia.org/wiki/Moore_neighborhood), which are the cells that are horizontally, vertically, or diagonally adjacent.\n",
    "\n",
    "The process begins with an initial pattern, or seed. Rules are applied simultaneously to every cell to form the first generation, with births and deaths occurring at the same time (a tick). Each generation is is a [pure function](https://adabeat.com/fp/pure-functions-in-functional-programming/) from the previous one, and this process repeats to create further generations.\n",
    "\n",
    "Many patterns can emerge in a typical run of the Game of Life. Some patterns remain static, while others oscillate or move across the screen. Certain patterns can even generate new patterns, adding to the simulation's complexity and dynamism."
   ]
  },
  {
   "cell_type": "code",
   "execution_count": 6,
   "metadata": {},
   "outputs": [
    {
     "ename": "UnboundLocalError",
     "evalue": "cannot access local variable 'result' where it is not associated with a value",
     "output_type": "error",
     "traceback": [
      "\u001b[1;31m---------------------------------------------------------------------------\u001b[0m",
      "\u001b[1;31mUnboundLocalError\u001b[0m                         Traceback (most recent call last)",
      "Cell \u001b[1;32mIn[6], line 34\u001b[0m\n\u001b[0;32m     31\u001b[0m     result \u001b[38;5;241m=\u001b[39m apply_rules(cell, neighbors)\n\u001b[0;32m     32\u001b[0m     \u001b[38;5;28mprint\u001b[39m(\u001b[38;5;124m\"\u001b[39m\u001b[38;5;124mResult:\u001b[39m\u001b[38;5;124m\"\u001b[39m, \u001b[38;5;124m\"\u001b[39m\u001b[38;5;124malive\u001b[39m\u001b[38;5;124m\"\u001b[39m \u001b[38;5;28;01mif\u001b[39;00m result \u001b[38;5;28;01melse\u001b[39;00m \u001b[38;5;124m\"\u001b[39m\u001b[38;5;124mdead\u001b[39m\u001b[38;5;124m\"\u001b[39m)\n\u001b[1;32m---> 34\u001b[0m \u001b[43minteract_with_rules\u001b[49m\u001b[43m(\u001b[49m\u001b[43m)\u001b[49m\n",
      "Cell \u001b[1;32mIn[6], line 31\u001b[0m, in \u001b[0;36minteract_with_rules\u001b[1;34m()\u001b[0m\n\u001b[0;32m     28\u001b[0m cell \u001b[38;5;241m=\u001b[39m \u001b[38;5;28minput\u001b[39m(\u001b[38;5;124m\"\u001b[39m\u001b[38;5;124mEnter cell state (alive or dead): \u001b[39m\u001b[38;5;124m\"\u001b[39m)\u001b[38;5;241m.\u001b[39mlower() \u001b[38;5;241m==\u001b[39m \u001b[38;5;124m\"\u001b[39m\u001b[38;5;124malive\u001b[39m\u001b[38;5;124m\"\u001b[39m\n\u001b[0;32m     29\u001b[0m neighbors \u001b[38;5;241m=\u001b[39m \u001b[38;5;28mint\u001b[39m(\u001b[38;5;28minput\u001b[39m(\u001b[38;5;124m\"\u001b[39m\u001b[38;5;124mEnter number of live neighbors: \u001b[39m\u001b[38;5;124m\"\u001b[39m))\n\u001b[1;32m---> 31\u001b[0m result \u001b[38;5;241m=\u001b[39m \u001b[43mapply_rules\u001b[49m\u001b[43m(\u001b[49m\u001b[43mcell\u001b[49m\u001b[43m,\u001b[49m\u001b[43m \u001b[49m\u001b[43mneighbors\u001b[49m\u001b[43m)\u001b[49m\n\u001b[0;32m     32\u001b[0m \u001b[38;5;28mprint\u001b[39m(\u001b[38;5;124m\"\u001b[39m\u001b[38;5;124mResult:\u001b[39m\u001b[38;5;124m\"\u001b[39m, \u001b[38;5;124m\"\u001b[39m\u001b[38;5;124malive\u001b[39m\u001b[38;5;124m\"\u001b[39m \u001b[38;5;28;01mif\u001b[39;00m result \u001b[38;5;28;01melse\u001b[39;00m \u001b[38;5;124m\"\u001b[39m\u001b[38;5;124mdead\u001b[39m\u001b[38;5;124m\"\u001b[39m)\n",
      "Cell \u001b[1;32mIn[6], line 25\u001b[0m, in \u001b[0;36mapply_rules\u001b[1;34m(cell, neighbors)\u001b[0m\n\u001b[0;32m     22\u001b[0m     result \u001b[38;5;241m=\u001b[39m alive\n\u001b[0;32m     23\u001b[0m     \u001b[38;5;28mprint\u001b[39m(\u001b[38;5;124m\"\u001b[39m\u001b[38;5;124mCell becomes alive due to reproduction\u001b[39m\u001b[38;5;124m\"\u001b[39m)\n\u001b[1;32m---> 25\u001b[0m \u001b[38;5;28;01mreturn\u001b[39;00m \u001b[43mresult\u001b[49m\n",
      "\u001b[1;31mUnboundLocalError\u001b[0m: cannot access local variable 'result' where it is not associated with a value"
     ]
    }
   ],
   "source": [
    "def apply_rules(cell, neighbors):\n",
    "    alive = True\n",
    "    dead = False\n",
    "    \n",
    "    # Any live cell with fewer than two live neighbors dies, as if by underpopulation\n",
    "    if cell == alive and neighbors < 2:\n",
    "        result = dead\n",
    "        print(\"Cell dies due to underpopulation\")\n",
    "    \n",
    "    # Any live cell with two or three live neighbors lives on to the next generation\n",
    "    elif cell == alive and (neighbors == 2 or neighbors == 3):\n",
    "        result = alive\n",
    "        print(\"Cell survives to the next generation\")\n",
    "    \n",
    "    # Any live cell with more than three live neighbors dies, as if by overpopulation\n",
    "    elif cell == alive and neighbors > 3:\n",
    "        result = dead\n",
    "        print(\"Cell dies due to overpopulation\")\n",
    "    \n",
    "    # Any dead cell with exactly three live neighbors becomes a live cell, as if by reproduction\n",
    "    elif cell == dead and neighbors == 3:\n",
    "        result = alive\n",
    "        print(\"Cell becomes alive due to reproduction\")\n",
    "    \n",
    "    return result\n",
    "\n",
    "def interact_with_rules():\n",
    "    cell = input(\"Enter cell state (alive or dead): \").lower() == \"alive\"\n",
    "    neighbors = int(input(\"Enter number of live neighbors: \"))\n",
    "    \n",
    "    result = apply_rules(cell, neighbors)\n",
    "    print(\"Result:\", \"alive\" if result else \"dead\")\n",
    "\n",
    "interact_with_rules()"
   ]
  },
  {
   "cell_type": "markdown",
   "metadata": {},
   "source": [
    "## [Cellular Automaton](https://mathworld.wolfram.com/ElementaryCellularAutomaton.html)\n",
    "\n",
    "The simplest class of one-dimensional cellular automata. Elementary cellular automata have two possible values for each cell (0 or 1), and rules that depend only on nearest neighbor values. As a result, the evolution of an elementary cellular automaton can completely be described by a table specifying the state a given cell will have in the next generation based on the value of the cell to its left, the value the cell itself, and the value of the cell to its right.\n",
    "\n",
    "![Alt text](https://res.cloudinary.com/cloudinary/image/upload/rule_22.png)\n",
    "\n"
   ]
  },
  {
   "cell_type": "markdown",
   "metadata": {},
   "source": [
    "## [Origins of life](https://macbuse.github.io/PROG/life.html#origins-of-life-lol)\n",
    "\n",
    "In late 1940, [John von Neumann](https://mathshistory.st-andrews.ac.uk/Biographies/Von_Neumann/) defined life as a creation (as a being or organism). Which can reproduce itself and simulate a Turing machine.\n",
    "[Stanislaw Ulam](https://mathshistory.st-andrews.ac.uk/Biographies/Ulam/) who invented cellular automata, discussed using computers to simulate his cellular automata in a two-dimensional lattice in several papers. In parallel, von Neumann attempted to construct Ulam’s cellular automaton.\n",
    "Conway chose his rules carefully, after considerable experimentation, to meet the following criteria:\n",
    "\n",
    "1. There should be no explosive growth.\n",
    "2. There should exist small initial patterns with chaotic, unpredictable outcomes.\n",
    "3. There should be potential for von Neumann universal constructors.\n",
    "4. The rules should be as simple as possible, whilst adhering to the above constraints."
   ]
  },
  {
   "cell_type": "markdown",
   "metadata": {},
   "source": [
    "### 𓆟 𓆞 𓆝 𓆟 𓆞 𓆝 𓆟 𓆞 𓆝 𓆟 𓆞\n"
   ]
  }
 ],
 "metadata": {
  "kernelspec": {
   "display_name": "Python 3",
   "language": "python",
   "name": "python3"
  },
  "language_info": {
   "codemirror_mode": {
    "name": "ipython",
    "version": 3
   },
   "file_extension": ".py",
   "mimetype": "text/x-python",
   "name": "python",
   "nbconvert_exporter": "python",
   "pygments_lexer": "ipython3",
   "version": "3.11.5"
  }
 },
 "nbformat": 4,
 "nbformat_minor": 2
}
