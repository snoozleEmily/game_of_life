{
 "cells": [
  {
   "cell_type": "code",
   "execution_count": 33,
   "metadata": {
    "vscode": {
     "languageId": "html"
    }
   },
   "outputs": [
    {
     "data": {
      "text/html": [
       "<link rel=\"stylesheet\" type=\"text/css\" href=\"custom.css\">\n"
      ],
      "text/plain": [
       "<IPython.core.display.HTML object>"
      ]
     },
     "metadata": {},
     "output_type": "display_data"
    }
   ],
   "source": [
    "%%html\n",
    "<link rel=\"stylesheet\" type=\"text/css\" href=\"custom.css\">"
   ]
  },
  {
   "cell_type": "markdown",
   "metadata": {},
   "source": [
    "# Understanding Neighbor Counting\n",
    "\n",
    "The <i>'live_neighbors'</i> variable counts how many living neighbors a cell has in the grid."
   ]
  },
  {
   "cell_type": "code",
   "execution_count": 34,
   "metadata": {},
   "outputs": [],
   "source": [
    "import numpy as np\n",
    "\n",
    "GRID_SIZE = 100 # Width and Height\n",
    "DEAD = 0\n",
    "ALIVE = 1\n",
    "\n",
    "# Generating random grid\n",
    "grid = np.random.choice([DEAD, ALIVE], size=(GRID_SIZE, GRID_SIZE))"
   ]
  },
  {
   "cell_type": "code",
   "execution_count": null,
   "metadata": {},
   "outputs": [],
   "source": [
    "for row in range(GRID_SIZE):\n",
    "        for column in range(GRID_SIZE):                \n",
    "            live_neighbors = int((                  \n",
    "                grid[row, (column-1)%GRID_SIZE] + grid[row, (column+1)%GRID_SIZE] +\n",
    "                grid[(row-1)%GRID_SIZE, column] + grid[(row+1)%GRID_SIZE, column] +\n",
    "                grid[(row-1)%GRID_SIZE, (column-1)%GRID_SIZE] + grid[(row-1)%GRID_SIZE, (column+1)%GRID_SIZE] +\n",
    "                grid[(row+1)%GRID_SIZE, (column-1)%GRID_SIZE] + grid[(row+1)%GRID_SIZE, (column+1)%GRID_SIZE]\n",
    "    ))"
   ]
  },
  {
   "cell_type": "markdown",
   "metadata": {},
   "source": [
    "<ul>\n",
    " <li><b>Left Neighbor:</b> grid[row, (column-1) % GRID_SIZE]</li><br>\n",
    " <li><b>Right Neighbor:</b> grid[row, (column+1) % GRID_SIZE]</li><br>\n",
    " <li><b>Top Neighbor:</b> grid[(row-1) % GRID_SIZE, column]</li><br>\n",
    " <li><b>Bottom Neighbor:</b> grid[(row+1) % GRID_SIZE, column]</li><br>\n",
    " <li><b>Top-Left Diagonal Neighbor:</b> grid[(row-1) % GRID_SIZE, (column-1) % GRID_SIZE]</li><br>\n",
    " <li><b>Top-Right Diagonal Neighbor:</b> grid[(row-1) % GRID_SIZE, (column+1) % GRID_SIZE]</li><br>\n",
    " <li><b>Bottom-Left Diagonal Neighbor:</b> grid[(row+1) % GRID_SIZE, (column-1) % GRID_SIZE]</li><br>\n",
    " <li><b>Bottom-Right Diagonal Neighbor:</b> grid[(row+1) % GRID_SIZE, (column+1) % GRID_SIZE]</li>\n",
    "</ul>\n",
    "\n",
    "These operations ensure that the grid wraps around itself in a toroidal (donut-shaped) topology, simulating an infinite plane.\n"
   ]
  }
 ],
 "metadata": {
  "kernelspec": {
   "display_name": "base",
   "language": "python",
   "name": "python3"
  },
  "language_info": {
   "codemirror_mode": {
    "name": "ipython",
    "version": 3
   },
   "file_extension": ".py",
   "mimetype": "text/x-python",
   "name": "python",
   "nbconvert_exporter": "python",
   "pygments_lexer": "ipython3",
   "version": "3.11.7"
  }
 },
 "nbformat": 4,
 "nbformat_minor": 2
}
