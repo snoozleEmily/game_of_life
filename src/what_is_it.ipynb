{
 "cells": [
  {
   "cell_type": "code",
   "execution_count": 6,
   "metadata": {
    "vscode": {
     "languageId": "html"
    }
   },
   "outputs": [
    {
     "data": {
      "text/html": [
       "<link rel=\"stylesheet\" type=\"text/css\" href=\"custom.css\">\n"
      ],
      "text/plain": [
       "<IPython.core.display.HTML object>"
      ]
     },
     "metadata": {},
     "output_type": "display_data"
    }
   ],
   "source": [
    "%%html\n",
    "<link rel=\"stylesheet\" type=\"text/css\" href=\"custom.css\">"
   ]
  },
  {
   "cell_type": "markdown",
   "metadata": {},
   "source": [
    "# [The Game of Life 𓍼ོ](https://en.wikipedia.org/wiki/Conway%27s_Game_of_Life) \n",
    "\n",
    "Also known as Life, is a cellular automaton created by the mathematician [John Horton Conway](https://mathshistory.st-andrews.ac.uk/Biographies/Conway/) in 1970. It is a [zero-player](https://gamephilosophy.org/wp-content/uploads/confmanuscripts/pcg2012/Bjor%20Juul%202012%20-Zero-player-games-Exploring-the-distinction-between-Games-as-Artifacts-and-Games-as-Activities.pdf) game, meaning that its evolution is determined by its initial state, requiring no further input. One interacts with the Game of Life by creating an initial configuration and observing how it evolves. Life is not just a static mathematical construct but a dynamic system teeming with life, death, and emergent patterns. It is Turing complete and can simulate a universal constructor or any other Turing machine. <span style=\"font-size: 6px; font-family: Verdana; letter-spacing: 3px;\">AKA THE GAME PLAYS ITSELF</span>\n",
    "\n",
    "The universe of the Game of Life is an [infinite, two-dimensional orthogonal grid of square](https://en.wikipedia.org/wiki/Square_tiling) cells, each of which is in one of two possible states, live or dead (or populated and unpopulated, respectively). Every cell interacts with its eight [neighbors](https://en.wikipedia.org/wiki/Moore_neighborhood), which are the cells that are horizontally, vertically, or diagonally adjacent.\n",
    "\n",
    "The process begins with an initial pattern, or seed. Rules are applied simultaneously to every cell to form the first generation, with births and deaths occurring at the same time (a tick). Each generation is is a [pure function](https://adabeat.com/fp/pure-functions-in-functional-programming/) from the previous one, and this process repeats to create further generations.\n",
    "\n",
    "[Many patterns](https://conwaylife.appspot.com/library/) can emerge in a typical run of the Game of Life. Some patterns remain static, while others oscillate or move across the screen. Certain patterns can even generate new patterns, adding to the simulation's complexity and dynamism."
   ]
  },
  {
   "cell_type": "markdown",
   "metadata": {},
   "source": [
    "## Rules\n",
    "\n",
    "At each iteration, or generation, these rules dictate the fate of each cell based on its current state and the state of its neighboring cells.\n",
    "\n",
    "The four rules are as follows:\n",
    "\n",
    "1. <b>Underpopulation:</b> Any live cell with fewer than two live neighbors dies, simulating the effects of isolation and scarcity.\n",
    "2. <b>Survival:</b> A live cell with two or three live neighbors continues to thrive into the next generation, maintaining a delicate balance between life and its surroundings.\n",
    "3. <b>Overpopulation:</b> When a live cell is surrounded by more than three live neighbors, it succumbs to overpopulation and dies, reminiscent of resource depletion.\n",
    "4. <b>Reproduction:</b> If a dead cell finds itself neighbored by exactly three live cells, it springs to life in the next generation, mirroring the concept of reproduction and renewal.\n",
    "\n",
    "The following code snippet demonstrates the application of the rules of Conway's Game of Life to determine the state of a cell in the next generation based on its current state and the number of living neighbours it has."
   ]
  },
  {
   "cell_type": "code",
   "execution_count": 7,
   "metadata": {},
   "outputs": [],
   "source": [
    "# State of cells\n",
    "DEAD = 0\n",
    "ALIVE = 1"
   ]
  },
  {
   "cell_type": "markdown",
   "metadata": {},
   "source": [
    "The initial neighbourhood (grid) could look something like this:\n",
    "\n",
    "![grid-like arrays of the game of life](./img/arrays.png)\n",
    "\n",
    "The cell \"in focus\" <i>(the one in the middle)</i> can be either alive or dead, surrounded by its 8 neighbors."
   ]
  },
  {
   "cell_type": "code",
   "execution_count": 8,
   "metadata": {},
   "outputs": [],
   "source": [
    "def rules(cell, neighbours):    \n",
    "    if cell == ALIVE:\n",
    "        # Underpopulation\n",
    "        if neighbours < 2:\n",
    "            print(\"The living cell had fewer than two living neighbors, thus it died because of underpopulation.\")\n",
    "            return DEAD\n",
    "        \n",
    "        # Survival / Next Generation\n",
    "        if neighbours in [2, 3]:\n",
    "            print(\"The living cell had two or three living neighbors, then it lives on to the next generation.\")\n",
    "            return ALIVE\n",
    "        \n",
    "        # Overpopulation\n",
    "        if neighbours > 3:\n",
    "            print(\"The living cell died because of overpopulation since it had more than three living neighbors\")\n",
    "            return DEAD\n",
    "    else:\n",
    "        # Reproduction\n",
    "        if neighbours == 3:\n",
    "            print(\"The cell began dead and had exactly three living neighbors. Therefore, it becomes a living cell bbecause of reproduction.\")\n",
    "            return ALIVE\n",
    "        else:\n",
    "            # Otherwise, the cell state remains unchanged\n",
    "            print(\"Cell state remains unchanged.\")     \n",
    "    "
   ]
  },
  {
   "cell_type": "markdown",
   "metadata": {},
   "source": [
    "Modify the parameters below: the first to <b>alive</b> or <b>dead</b>, and the second to any number of your choice."
   ]
  },
  {
   "cell_type": "code",
   "execution_count": 9,
   "metadata": {},
   "outputs": [
    {
     "name": "stdout",
     "output_type": "stream",
     "text": [
      "The living cell had two or three living neighbors, then it lives on to the next generation.\n",
      "New cell state:  alive\n"
     ]
    }
   ],
   "source": [
    "new_cell_state = rules(ALIVE, 2) # This number mimicks the amount of living neighbours\n",
    "print(\"New cell state: \", \"alive\" if new_cell_state == ALIVE else 'dead')"
   ]
  },
  {
   "cell_type": "markdown",
   "metadata": {},
   "source": [
    "In summary, Conway's Game of Life is an interesting example of a cellular automaton that simulates the life and death of cells on a grid based on simple rules. Through iterations of these rules, complex and often beautiful patterns can emerge from random initial states."
   ]
  },
  {
   "cell_type": "markdown",
   "metadata": {},
   "source": [
    "# [Cellular Automaton](https://mathworld.wolfram.com/ElementaryCellularAutomaton.html)\n",
    "\n",
    "The study of cellular automata is not limited to Conway's Game of Life. There's more to it, like one of the simplest classes of cellular automata, the elementary cellular automaton, which operates on a one-dimensional grid with basic rules dependent only on the nearest neighbors. Elementary cellular automata have two possible values for each cell (0 or 1) and rules that depend only on the values of the nearest neighbors.\n",
    "\n",
    "![elementary cellular automata](./img/rule_22.png)"
   ]
  },
  {
   "cell_type": "markdown",
   "metadata": {},
   "source": [
    "### 𓆟 𓆞 𓆝 𓆟 𓆞 𓆝 𓆟 𓆞 𓆝 𓆟 𓆞\n",
    "This can be traced back to the origins of life, as discussed by [John von Neumann](https://mathshistory.st-andrews.ac.uk/Biographies/Von_Neumann/), who defined life as a system capable of self-reproduction and simulating a Turing machine.\n"
   ]
  },
  {
   "cell_type": "markdown",
   "metadata": {},
   "source": [
    "# [Origins of life](https://macbuse.github.io/PROG/life.html#origins-of-life-lol)\n",
    "\n",
    "\n",
    "[Stanislaw Ulam](https://mathshistory.st-andrews.ac.uk/Biographies/Ulam/) who invented cellular automata, discussed using computers to simulate his cellular automata in a two-dimensional lattice in several papers. It provided a practical framework for exploring these concepts using computational simulations on a grid.\n",
    "\n",
    "In parallel, von Neumann attempted to construct Ulam’s cellular automaton.\n",
    "Conway chose his rules carefully, after considerable experimentation, to meet the following criteria:\n",
    "\n",
    "1. There should be no explosive growth.\n",
    "2. There should exist small initial patterns with chaotic, unpredictable outcomes.\n",
    "3. There should be potential for von Neumann universal constructors.\n",
    "4. The rules should be as simple as possible, whilst adhering to the above constraints."
   ]
  }
 ],
 "metadata": {
  "kernelspec": {
   "display_name": "Python 3",
   "language": "python",
   "name": "python3"
  },
  "language_info": {
   "codemirror_mode": {
    "name": "ipython",
    "version": 3
   },
   "file_extension": ".py",
   "mimetype": "text/x-python",
   "name": "python",
   "nbconvert_exporter": "python",
   "pygments_lexer": "ipython3",
   "version": "3.11.7"
  }
 },
 "nbformat": 4,
 "nbformat_minor": 2
}
